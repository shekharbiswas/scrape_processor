{
 "metadata": {
  "language_info": {
   "codemirror_mode": {
    "name": "ipython",
    "version": 3
   },
   "file_extension": ".py",
   "mimetype": "text/x-python",
   "name": "python",
   "nbconvert_exporter": "python",
   "pygments_lexer": "ipython3",
   "version": "3.7.4-final"
  },
  "orig_nbformat": 2,
  "kernelspec": {
   "name": "python3",
   "display_name": "Python 3"
  }
 },
 "nbformat": 4,
 "nbformat_minor": 2,
 "cells": [
  {
   "cell_type": "code",
   "execution_count": 1,
   "metadata": {},
   "outputs": [],
   "source": [
    "import numpy as np\n",
    "import pandas as pd"
   ]
  },
  {
   "cell_type": "code",
   "execution_count": 64,
   "metadata": {},
   "outputs": [],
   "source": [
    "df = pd.read_json('.\\sample_product.json')"
   ]
  },
  {
   "cell_type": "code",
   "execution_count": 65,
   "metadata": {},
   "outputs": [],
   "source": [
    "#df"
   ]
  },
  {
   "cell_type": "code",
   "execution_count": 31,
   "metadata": {},
   "outputs": [
    {
     "output_type": "execute_result",
     "data": {
      "text/plain": [
       "'Product Dimensions'"
      ]
     },
     "metadata": {},
     "execution_count": 31
    }
   ],
   "source": [
    "df.product_addl_info[0][0]['info']"
   ]
  },
  {
   "cell_type": "code",
   "execution_count": 66,
   "metadata": {},
   "outputs": [
    {
     "output_type": "stream",
     "name": "stdout",
     "text": [
      "['Manufacturer', 'Package Dimensions', 'Item model number', 'ASIN', 'Date First Available', 'Best Sellers Rank', 'Product Dimensions', 'Is Discontinued By Manufacturer', 'Item Weight']\n"
     ]
    }
   ],
   "source": [
    "columns = []\n",
    "for i in range(len(df)):\n",
    "    for j in df.product_addl_info[i]:\n",
    "        columns.append(j['info'])\n",
    "\n",
    "columns = list(set(columns))\n",
    "    #print(df.product_addl_info[i][0])\n",
    "columns.remove('Customer Reviews')\n",
    "print(columns)\n"
   ]
  },
  {
   "cell_type": "code",
   "execution_count": 67,
   "metadata": {},
   "outputs": [],
   "source": [
    "new = pd.DataFrame(columns=columns)\n"
   ]
  },
  {
   "cell_type": "code",
   "execution_count": 67,
   "metadata": {},
   "outputs": [
    {
     "output_type": "execute_result",
     "data": {
      "text/plain": [
       "Empty DataFrame\n",
       "Columns: [Product Dimensions, Manufacturer, Item model number, Item Weight, ASIN, Best Sellers Rank, Package Dimensions, Date First Available]\n",
       "Index: []"
      ],
      "text/html": "<div>\n<style scoped>\n    .dataframe tbody tr th:only-of-type {\n        vertical-align: middle;\n    }\n\n    .dataframe tbody tr th {\n        vertical-align: top;\n    }\n\n    .dataframe thead th {\n        text-align: right;\n    }\n</style>\n<table border=\"1\" class=\"dataframe\">\n  <thead>\n    <tr style=\"text-align: right;\">\n      <th></th>\n      <th>Product Dimensions</th>\n      <th>Manufacturer</th>\n      <th>Item model number</th>\n      <th>Item Weight</th>\n      <th>ASIN</th>\n      <th>Best Sellers Rank</th>\n      <th>Package Dimensions</th>\n      <th>Date First Available</th>\n    </tr>\n  </thead>\n  <tbody>\n  </tbody>\n</table>\n</div>"
     },
     "metadata": {},
     "execution_count": 67
    }
   ],
   "source": [
    "new"
   ]
  },
  {
   "cell_type": "code",
   "execution_count": 32,
   "metadata": {},
   "outputs": [
    {
     "output_type": "execute_result",
     "data": {
      "text/plain": [
       "{'info': 'Product Dimensions', 'value': '13.33 x 0.7 x 0.2 inches'}"
      ]
     },
     "metadata": {},
     "execution_count": 32
    }
   ],
   "source": [
    "df.product_addl_info[0][0]"
   ]
  },
  {
   "cell_type": "code",
   "execution_count": 68,
   "metadata": {},
   "outputs": [],
   "source": [
    "for i in range(len(df)):\n",
    "    for j in df.product_addl_info[i]:\n",
    "        #info = j['info']\n",
    "        #value = j['value']\n",
    "        #print(info, value)\n",
    "        new.loc[i, j['info']] = j['value']\n",
    "    "
   ]
  },
  {
   "cell_type": "code",
   "execution_count": 69,
   "metadata": {},
   "outputs": [],
   "source": [
    "new = new.drop(columns=['Customer Reviews'])"
   ]
  },
  {
   "cell_type": "code",
   "execution_count": 70,
   "metadata": {},
   "outputs": [
    {
     "output_type": "execute_result",
     "data": {
      "text/plain": [
       "   Manufacturer      Package Dimensions Item model number        ASIN  \\\n",
       "0       EVanlak                     NaN               NaN  B07YLQZXKY   \n",
       "1          EKWB  7 x 5.25 x 3.75 inches     3831109819272  B085NBFXFT   \n",
       "2           NaN                     NaN               NaN  B07SXMZLP9   \n",
       "3           NaN                     NaN               NaN  B07HHLX1R8   \n",
       "4           NaN                     NaN               NaN  B07B428M7F   \n",
       "5           NaN                     NaN               NaN  B07SXMZLPJ   \n",
       "6           NaN                     NaN               NaN  B07SQBFN2D   \n",
       "7           NaN                     NaN               NaN  B07S8DWXT3   \n",
       "8           NaN                     NaN               NaN  B07SXNDKNM   \n",
       "9           NaN                     NaN               NaN  B012M8LXQW   \n",
       "10          NaN                     NaN               NaN  B0759FGJ3Q   \n",
       "11          NaN                     NaN               NaN  B07B428V2L   \n",
       "12          NaN                     NaN               NaN  B086MG1C7C   \n",
       "13          NaN                     NaN               NaN  B089WC4VWF   \n",
       "14      EVanlak                     NaN               NaN  B07YLQZXKY   \n",
       "15        Braun                     NaN          FP3020WH  B00VF0RYK8   \n",
       "16          NaN                     NaN               NaN  B07R7Q3JZH   \n",
       "17          NaN                     NaN               NaN  B086226DDB   \n",
       "18          NaN                     NaN               NaN  B012M8M7TY   \n",
       "19          NaN                     NaN               NaN  B07598VZR8   \n",
       "20          D&H                     NaN    BX80673I99980X  B07JGCMQY8   \n",
       "\n",
       "   Date First Available                                  Best Sellers Rank  \\\n",
       "0       October 1, 2019                    #850 in Computer Graphics Cards   \n",
       "1         March 9, 2020                    #3,135 in Water Cooling Systems   \n",
       "2          July 1, 2019                      #4 in Computer CPU Processors   \n",
       "3    September 19, 2018                     #10 in Computer CPU Processors   \n",
       "4        April 13, 2018                     #16 in Computer CPU Processors   \n",
       "5          July 1, 2019                     #12 in Computer CPU Processors   \n",
       "6          July 1, 2019                      #6 in Computer CPU Processors   \n",
       "7          May 15, 2019                     #18 in Computer CPU Processors   \n",
       "8          July 1, 2019                      #8 in Computer CPU Processors   \n",
       "9        August 5, 2015                     #31 in Computer CPU Processors   \n",
       "10      October 5, 2017                     #29 in Computer CPU Processors   \n",
       "11       April 13, 2018                     #23 in Computer CPU Processors   \n",
       "12         May 27, 2020                     #19 in Computer CPU Processors   \n",
       "13         July 7, 2020                     #25 in Computer CPU Processors   \n",
       "14      October 1, 2019                    #850 in Computer Graphics Cards   \n",
       "15       March 30, 2015  #3,435 in Kitchen & Dining ( See Top 100 in Ki...   \n",
       "16         May 17, 2019                     #14 in Computer CPU Processors   \n",
       "17       March 17, 2020  #21 in Computers & Accessories ( See Top 100 i...   \n",
       "18       August 5, 2015                     #39 in Computer CPU Processors   \n",
       "19      October 5, 2017                     #28 in Computer CPU Processors   \n",
       "20    November 13, 2018                    #106 in Computer CPU Processors   \n",
       "\n",
       "           Product Dimensions Is Discontinued By Manufacturer   Item Weight  \n",
       "0    13.33 x 0.7 x 0.2 inches                             NaN  0.352 ounces  \n",
       "1                         NaN                             NaN    1.6 pounds  \n",
       "2                         NaN                             NaN           NaN  \n",
       "3                         NaN                             NaN           NaN  \n",
       "4                         NaN                             NaN           NaN  \n",
       "5                         NaN                             NaN           NaN  \n",
       "6                         NaN                             NaN           NaN  \n",
       "7                         NaN                             NaN           NaN  \n",
       "8                         NaN                             NaN           NaN  \n",
       "9                         NaN                             NaN           NaN  \n",
       "10                        NaN                             NaN           NaN  \n",
       "11                        NaN                             NaN           NaN  \n",
       "12                        NaN                             NaN           NaN  \n",
       "13                        NaN                             NaN           NaN  \n",
       "14   13.33 x 0.7 x 0.2 inches                             NaN  0.352 ounces  \n",
       "15  14.9 x 11.3 x 15.4 inches                              No    9.8 pounds  \n",
       "16                        NaN                             NaN           NaN  \n",
       "17                        NaN                             NaN           NaN  \n",
       "18                        NaN                             NaN           NaN  \n",
       "19                        NaN                             NaN           NaN  \n",
       "20         4 x 2 x 4.6 inches                              No   1.16 ounces  "
      ],
      "text/html": "<div>\n<style scoped>\n    .dataframe tbody tr th:only-of-type {\n        vertical-align: middle;\n    }\n\n    .dataframe tbody tr th {\n        vertical-align: top;\n    }\n\n    .dataframe thead th {\n        text-align: right;\n    }\n</style>\n<table border=\"1\" class=\"dataframe\">\n  <thead>\n    <tr style=\"text-align: right;\">\n      <th></th>\n      <th>Manufacturer</th>\n      <th>Package Dimensions</th>\n      <th>Item model number</th>\n      <th>ASIN</th>\n      <th>Date First Available</th>\n      <th>Best Sellers Rank</th>\n      <th>Product Dimensions</th>\n      <th>Is Discontinued By Manufacturer</th>\n      <th>Item Weight</th>\n    </tr>\n  </thead>\n  <tbody>\n    <tr>\n      <td>0</td>\n      <td>EVanlak</td>\n      <td>NaN</td>\n      <td>NaN</td>\n      <td>B07YLQZXKY</td>\n      <td>October 1, 2019</td>\n      <td>#850 in Computer Graphics Cards</td>\n      <td>13.33 x 0.7 x 0.2 inches</td>\n      <td>NaN</td>\n      <td>0.352 ounces</td>\n    </tr>\n    <tr>\n      <td>1</td>\n      <td>EKWB</td>\n      <td>7 x 5.25 x 3.75 inches</td>\n      <td>3831109819272</td>\n      <td>B085NBFXFT</td>\n      <td>March 9, 2020</td>\n      <td>#3,135 in Water Cooling Systems</td>\n      <td>NaN</td>\n      <td>NaN</td>\n      <td>1.6 pounds</td>\n    </tr>\n    <tr>\n      <td>2</td>\n      <td>NaN</td>\n      <td>NaN</td>\n      <td>NaN</td>\n      <td>B07SXMZLP9</td>\n      <td>July 1, 2019</td>\n      <td>#4 in Computer CPU Processors</td>\n      <td>NaN</td>\n      <td>NaN</td>\n      <td>NaN</td>\n    </tr>\n    <tr>\n      <td>3</td>\n      <td>NaN</td>\n      <td>NaN</td>\n      <td>NaN</td>\n      <td>B07HHLX1R8</td>\n      <td>September 19, 2018</td>\n      <td>#10 in Computer CPU Processors</td>\n      <td>NaN</td>\n      <td>NaN</td>\n      <td>NaN</td>\n    </tr>\n    <tr>\n      <td>4</td>\n      <td>NaN</td>\n      <td>NaN</td>\n      <td>NaN</td>\n      <td>B07B428M7F</td>\n      <td>April 13, 2018</td>\n      <td>#16 in Computer CPU Processors</td>\n      <td>NaN</td>\n      <td>NaN</td>\n      <td>NaN</td>\n    </tr>\n    <tr>\n      <td>5</td>\n      <td>NaN</td>\n      <td>NaN</td>\n      <td>NaN</td>\n      <td>B07SXMZLPJ</td>\n      <td>July 1, 2019</td>\n      <td>#12 in Computer CPU Processors</td>\n      <td>NaN</td>\n      <td>NaN</td>\n      <td>NaN</td>\n    </tr>\n    <tr>\n      <td>6</td>\n      <td>NaN</td>\n      <td>NaN</td>\n      <td>NaN</td>\n      <td>B07SQBFN2D</td>\n      <td>July 1, 2019</td>\n      <td>#6 in Computer CPU Processors</td>\n      <td>NaN</td>\n      <td>NaN</td>\n      <td>NaN</td>\n    </tr>\n    <tr>\n      <td>7</td>\n      <td>NaN</td>\n      <td>NaN</td>\n      <td>NaN</td>\n      <td>B07S8DWXT3</td>\n      <td>May 15, 2019</td>\n      <td>#18 in Computer CPU Processors</td>\n      <td>NaN</td>\n      <td>NaN</td>\n      <td>NaN</td>\n    </tr>\n    <tr>\n      <td>8</td>\n      <td>NaN</td>\n      <td>NaN</td>\n      <td>NaN</td>\n      <td>B07SXNDKNM</td>\n      <td>July 1, 2019</td>\n      <td>#8 in Computer CPU Processors</td>\n      <td>NaN</td>\n      <td>NaN</td>\n      <td>NaN</td>\n    </tr>\n    <tr>\n      <td>9</td>\n      <td>NaN</td>\n      <td>NaN</td>\n      <td>NaN</td>\n      <td>B012M8LXQW</td>\n      <td>August 5, 2015</td>\n      <td>#31 in Computer CPU Processors</td>\n      <td>NaN</td>\n      <td>NaN</td>\n      <td>NaN</td>\n    </tr>\n    <tr>\n      <td>10</td>\n      <td>NaN</td>\n      <td>NaN</td>\n      <td>NaN</td>\n      <td>B0759FGJ3Q</td>\n      <td>October 5, 2017</td>\n      <td>#29 in Computer CPU Processors</td>\n      <td>NaN</td>\n      <td>NaN</td>\n      <td>NaN</td>\n    </tr>\n    <tr>\n      <td>11</td>\n      <td>NaN</td>\n      <td>NaN</td>\n      <td>NaN</td>\n      <td>B07B428V2L</td>\n      <td>April 13, 2018</td>\n      <td>#23 in Computer CPU Processors</td>\n      <td>NaN</td>\n      <td>NaN</td>\n      <td>NaN</td>\n    </tr>\n    <tr>\n      <td>12</td>\n      <td>NaN</td>\n      <td>NaN</td>\n      <td>NaN</td>\n      <td>B086MG1C7C</td>\n      <td>May 27, 2020</td>\n      <td>#19 in Computer CPU Processors</td>\n      <td>NaN</td>\n      <td>NaN</td>\n      <td>NaN</td>\n    </tr>\n    <tr>\n      <td>13</td>\n      <td>NaN</td>\n      <td>NaN</td>\n      <td>NaN</td>\n      <td>B089WC4VWF</td>\n      <td>July 7, 2020</td>\n      <td>#25 in Computer CPU Processors</td>\n      <td>NaN</td>\n      <td>NaN</td>\n      <td>NaN</td>\n    </tr>\n    <tr>\n      <td>14</td>\n      <td>EVanlak</td>\n      <td>NaN</td>\n      <td>NaN</td>\n      <td>B07YLQZXKY</td>\n      <td>October 1, 2019</td>\n      <td>#850 in Computer Graphics Cards</td>\n      <td>13.33 x 0.7 x 0.2 inches</td>\n      <td>NaN</td>\n      <td>0.352 ounces</td>\n    </tr>\n    <tr>\n      <td>15</td>\n      <td>Braun</td>\n      <td>NaN</td>\n      <td>FP3020WH</td>\n      <td>B00VF0RYK8</td>\n      <td>March 30, 2015</td>\n      <td>#3,435 in Kitchen &amp; Dining ( See Top 100 in Ki...</td>\n      <td>14.9 x 11.3 x 15.4 inches</td>\n      <td>No</td>\n      <td>9.8 pounds</td>\n    </tr>\n    <tr>\n      <td>16</td>\n      <td>NaN</td>\n      <td>NaN</td>\n      <td>NaN</td>\n      <td>B07R7Q3JZH</td>\n      <td>May 17, 2019</td>\n      <td>#14 in Computer CPU Processors</td>\n      <td>NaN</td>\n      <td>NaN</td>\n      <td>NaN</td>\n    </tr>\n    <tr>\n      <td>17</td>\n      <td>NaN</td>\n      <td>NaN</td>\n      <td>NaN</td>\n      <td>B086226DDB</td>\n      <td>March 17, 2020</td>\n      <td>#21 in Computers &amp; Accessories ( See Top 100 i...</td>\n      <td>NaN</td>\n      <td>NaN</td>\n      <td>NaN</td>\n    </tr>\n    <tr>\n      <td>18</td>\n      <td>NaN</td>\n      <td>NaN</td>\n      <td>NaN</td>\n      <td>B012M8M7TY</td>\n      <td>August 5, 2015</td>\n      <td>#39 in Computer CPU Processors</td>\n      <td>NaN</td>\n      <td>NaN</td>\n      <td>NaN</td>\n    </tr>\n    <tr>\n      <td>19</td>\n      <td>NaN</td>\n      <td>NaN</td>\n      <td>NaN</td>\n      <td>B07598VZR8</td>\n      <td>October 5, 2017</td>\n      <td>#28 in Computer CPU Processors</td>\n      <td>NaN</td>\n      <td>NaN</td>\n      <td>NaN</td>\n    </tr>\n    <tr>\n      <td>20</td>\n      <td>D&amp;H</td>\n      <td>NaN</td>\n      <td>BX80673I99980X</td>\n      <td>B07JGCMQY8</td>\n      <td>November 13, 2018</td>\n      <td>#106 in Computer CPU Processors</td>\n      <td>4 x 2 x 4.6 inches</td>\n      <td>No</td>\n      <td>1.16 ounces</td>\n    </tr>\n  </tbody>\n</table>\n</div>"
     },
     "metadata": {},
     "execution_count": 70
    }
   ],
   "source": [
    "new"
   ]
  },
  {
   "cell_type": "code",
   "execution_count": 76,
   "metadata": {},
   "outputs": [
    {
     "output_type": "execute_result",
     "data": {
      "text/plain": [
       "                                                name  \\\n",
       "0  EVanlak DispalyPort Headless Ghost Display Emu...   \n",
       "1  EKWB EK-Quantum Magnitude CPU Water Block, AMD...   \n",
       "2  AMD Ryzen 9 3900X 12-core, 24-thread unlocked ...   \n",
       "3  AMD Ryzen 9 3900X 12-core, 24-thread unlocked ...   \n",
       "\n",
       "                                   product_tech_spec  \\\n",
       "0                                               None   \n",
       "1                                               None   \n",
       "2  [{'info': 'Brand', 'value': 'AMD'}, {'info': '...   \n",
       "3  [{'info': 'Brand', 'value': 'AMD'}, {'info': '...   \n",
       "\n",
       "                                   product_addl_info         seller  \\\n",
       "0  [{'info': 'Product Dimensions', 'value': '13.3...  EVanlak stroe   \n",
       "1  [{'info': 'Package Dimensions', 'value': '7 x ...      TITAN RIG   \n",
       "2  [{'info': 'ASIN', 'value': 'B07SXMZLP9'}, {'in...           None   \n",
       "3  [{'info': 'ASIN', 'value': 'B07SXMZLP9'}, {'in...           None   \n",
       "\n",
       "                                         seller_link  \\\n",
       "0  https://www.amazon.com/gp/help/seller/at-a-gla...   \n",
       "1  https://www.amazon.com/gp/help/seller/at-a-gla...   \n",
       "2                                               None   \n",
       "3                                               None   \n",
       "\n",
       "                                         freq_bought  \\\n",
       "0                                               None   \n",
       "1                                               None   \n",
       "2  Corsair Vengeance RGB Pro 32GB (2x16GB) DDR4 3...   \n",
       "3  Corsair Vengeance RGB Pro 32GB (2x16GB) DDR4 3...   \n",
       "\n",
       "                                    freq_bought_link  \\\n",
       "0                                               None   \n",
       "1                                               None   \n",
       "2  /Corsair-CMW32GX4M2C3200C16-Vengeance-PC4-2560...   \n",
       "3  /Corsair-CMW32GX4M2C3200C16-Vengeance-PC4-2560...   \n",
       "\n",
       "                                 link_to_all_reviews  \n",
       "0  /EVanlak-DispalyPort-Headless-Emulator-3840x21...  \n",
       "1  /EKWB-EK-Quantum-Magnitude-Water-Nickel/produc...  \n",
       "2  /Ryzen-3900X-Procesador-escritorio-desbloquead...  \n",
       "3  /Ryzen-3900X-Procesador-escritorio-desbloquead...  "
      ],
      "text/html": "<div>\n<style scoped>\n    .dataframe tbody tr th:only-of-type {\n        vertical-align: middle;\n    }\n\n    .dataframe tbody tr th {\n        vertical-align: top;\n    }\n\n    .dataframe thead th {\n        text-align: right;\n    }\n</style>\n<table border=\"1\" class=\"dataframe\">\n  <thead>\n    <tr style=\"text-align: right;\">\n      <th></th>\n      <th>name</th>\n      <th>product_tech_spec</th>\n      <th>product_addl_info</th>\n      <th>seller</th>\n      <th>seller_link</th>\n      <th>freq_bought</th>\n      <th>freq_bought_link</th>\n      <th>link_to_all_reviews</th>\n    </tr>\n  </thead>\n  <tbody>\n    <tr>\n      <td>0</td>\n      <td>EVanlak DispalyPort Headless Ghost Display Emu...</td>\n      <td>None</td>\n      <td>[{'info': 'Product Dimensions', 'value': '13.3...</td>\n      <td>EVanlak stroe</td>\n      <td>https://www.amazon.com/gp/help/seller/at-a-gla...</td>\n      <td>None</td>\n      <td>None</td>\n      <td>/EVanlak-DispalyPort-Headless-Emulator-3840x21...</td>\n    </tr>\n    <tr>\n      <td>1</td>\n      <td>EKWB EK-Quantum Magnitude CPU Water Block, AMD...</td>\n      <td>None</td>\n      <td>[{'info': 'Package Dimensions', 'value': '7 x ...</td>\n      <td>TITAN RIG</td>\n      <td>https://www.amazon.com/gp/help/seller/at-a-gla...</td>\n      <td>None</td>\n      <td>None</td>\n      <td>/EKWB-EK-Quantum-Magnitude-Water-Nickel/produc...</td>\n    </tr>\n    <tr>\n      <td>2</td>\n      <td>AMD Ryzen 9 3900X 12-core, 24-thread unlocked ...</td>\n      <td>[{'info': 'Brand', 'value': 'AMD'}, {'info': '...</td>\n      <td>[{'info': 'ASIN', 'value': 'B07SXMZLP9'}, {'in...</td>\n      <td>None</td>\n      <td>None</td>\n      <td>Corsair Vengeance RGB Pro 32GB (2x16GB) DDR4 3...</td>\n      <td>/Corsair-CMW32GX4M2C3200C16-Vengeance-PC4-2560...</td>\n      <td>/Ryzen-3900X-Procesador-escritorio-desbloquead...</td>\n    </tr>\n    <tr>\n      <td>3</td>\n      <td>AMD Ryzen 9 3900X 12-core, 24-thread unlocked ...</td>\n      <td>[{'info': 'Brand', 'value': 'AMD'}, {'info': '...</td>\n      <td>[{'info': 'ASIN', 'value': 'B07SXMZLP9'}, {'in...</td>\n      <td>None</td>\n      <td>None</td>\n      <td>Corsair Vengeance RGB Pro 32GB (2x16GB) DDR4 3...</td>\n      <td>/Corsair-CMW32GX4M2C3200C16-Vengeance-PC4-2560...</td>\n      <td>/Ryzen-3900X-Procesador-escritorio-desbloquead...</td>\n    </tr>\n  </tbody>\n</table>\n</div>"
     },
     "metadata": {},
     "execution_count": 76
    }
   ],
   "source": []
  },
  {
   "cell_type": "code",
   "execution_count": 5,
   "metadata": {},
   "outputs": [
    {
     "output_type": "execute_result",
     "data": {
      "text/plain": [
       "                                                name  \\\n",
       "0  EVanlak DispalyPort Headless Ghost Display Emu...   \n",
       "1  EKWB EK-Quantum Magnitude CPU Water Block, AMD...   \n",
       "2  AMD Ryzen 9 3900X 12-core, 24-thread unlocked ...   \n",
       "3  AMD Ryzen 9 3900X 12-core, 24-thread unlocked ...   \n",
       "\n",
       "                                   product_tech_spec  \\\n",
       "0                                               None   \n",
       "1                                               None   \n",
       "2  [{'info': 'Brand', 'value': 'AMD'}, {'info': '...   \n",
       "3  [{'info': 'Brand', 'value': 'AMD'}, {'info': '...   \n",
       "\n",
       "                                   product_addl_info         seller  \\\n",
       "0  [{'info': 'Product Dimensions', 'value': '13.3...  EVanlak stroe   \n",
       "1  [{'info': 'Package Dimensions', 'value': '7 x ...      TITAN RIG   \n",
       "2  [{'info': 'ASIN', 'value': 'B07SXMZLP9'}, {'in...           None   \n",
       "3  [{'info': 'ASIN', 'value': 'B07SXMZLP9'}, {'in...           None   \n",
       "\n",
       "                                         seller_link  \\\n",
       "0  https://www.amazon.com/gp/help/seller/at-a-gla...   \n",
       "1  https://www.amazon.com/gp/help/seller/at-a-gla...   \n",
       "2                                               None   \n",
       "3                                               None   \n",
       "\n",
       "                                         freq_bought  \\\n",
       "0                                               None   \n",
       "1                                               None   \n",
       "2  Corsair Vengeance RGB Pro 32GB (2x16GB) DDR4 3...   \n",
       "3  Corsair Vengeance RGB Pro 32GB (2x16GB) DDR4 3...   \n",
       "\n",
       "                                    freq_bought_link  \\\n",
       "0                                               None   \n",
       "1                                               None   \n",
       "2  /Corsair-CMW32GX4M2C3200C16-Vengeance-PC4-2560...   \n",
       "3  /Corsair-CMW32GX4M2C3200C16-Vengeance-PC4-2560...   \n",
       "\n",
       "                                 link_to_all_reviews  \n",
       "0  /EVanlak-DispalyPort-Headless-Emulator-3840x21...  \n",
       "1  /EKWB-EK-Quantum-Magnitude-Water-Nickel/produc...  \n",
       "2  /Ryzen-3900X-Procesador-escritorio-desbloquead...  \n",
       "3  /Ryzen-3900X-Procesador-escritorio-desbloquead...  "
      ],
      "text/html": "<div>\n<style scoped>\n    .dataframe tbody tr th:only-of-type {\n        vertical-align: middle;\n    }\n\n    .dataframe tbody tr th {\n        vertical-align: top;\n    }\n\n    .dataframe thead th {\n        text-align: right;\n    }\n</style>\n<table border=\"1\" class=\"dataframe\">\n  <thead>\n    <tr style=\"text-align: right;\">\n      <th></th>\n      <th>name</th>\n      <th>product_tech_spec</th>\n      <th>product_addl_info</th>\n      <th>seller</th>\n      <th>seller_link</th>\n      <th>freq_bought</th>\n      <th>freq_bought_link</th>\n      <th>link_to_all_reviews</th>\n    </tr>\n  </thead>\n  <tbody>\n    <tr>\n      <td>0</td>\n      <td>EVanlak DispalyPort Headless Ghost Display Emu...</td>\n      <td>None</td>\n      <td>[{'info': 'Product Dimensions', 'value': '13.3...</td>\n      <td>EVanlak stroe</td>\n      <td>https://www.amazon.com/gp/help/seller/at-a-gla...</td>\n      <td>None</td>\n      <td>None</td>\n      <td>/EVanlak-DispalyPort-Headless-Emulator-3840x21...</td>\n    </tr>\n    <tr>\n      <td>1</td>\n      <td>EKWB EK-Quantum Magnitude CPU Water Block, AMD...</td>\n      <td>None</td>\n      <td>[{'info': 'Package Dimensions', 'value': '7 x ...</td>\n      <td>TITAN RIG</td>\n      <td>https://www.amazon.com/gp/help/seller/at-a-gla...</td>\n      <td>None</td>\n      <td>None</td>\n      <td>/EKWB-EK-Quantum-Magnitude-Water-Nickel/produc...</td>\n    </tr>\n    <tr>\n      <td>2</td>\n      <td>AMD Ryzen 9 3900X 12-core, 24-thread unlocked ...</td>\n      <td>[{'info': 'Brand', 'value': 'AMD'}, {'info': '...</td>\n      <td>[{'info': 'ASIN', 'value': 'B07SXMZLP9'}, {'in...</td>\n      <td>None</td>\n      <td>None</td>\n      <td>Corsair Vengeance RGB Pro 32GB (2x16GB) DDR4 3...</td>\n      <td>/Corsair-CMW32GX4M2C3200C16-Vengeance-PC4-2560...</td>\n      <td>/Ryzen-3900X-Procesador-escritorio-desbloquead...</td>\n    </tr>\n    <tr>\n      <td>3</td>\n      <td>AMD Ryzen 9 3900X 12-core, 24-thread unlocked ...</td>\n      <td>[{'info': 'Brand', 'value': 'AMD'}, {'info': '...</td>\n      <td>[{'info': 'ASIN', 'value': 'B07SXMZLP9'}, {'in...</td>\n      <td>None</td>\n      <td>None</td>\n      <td>Corsair Vengeance RGB Pro 32GB (2x16GB) DDR4 3...</td>\n      <td>/Corsair-CMW32GX4M2C3200C16-Vengeance-PC4-2560...</td>\n      <td>/Ryzen-3900X-Procesador-escritorio-desbloquead...</td>\n    </tr>\n  </tbody>\n</table>\n</div>"
     },
     "metadata": {},
     "execution_count": 5
    }
   ],
   "source": []
  },
  {
   "cell_type": "code",
   "execution_count": 48,
   "metadata": {},
   "outputs": [
    {
     "output_type": "execute_result",
     "data": {
      "text/plain": [
       "21"
      ]
     },
     "metadata": {},
     "execution_count": 48
    }
   ],
   "source": [
    "df.shape[0]"
   ]
  },
  {
   "cell_type": "code",
   "execution_count": 71,
   "metadata": {},
   "outputs": [
    {
     "output_type": "execute_result",
     "data": {
      "text/plain": [
       "Empty DataFrame\n",
       "Columns: [Computer Memory Type, Wireless Type, ASIN, Date First Available, Processor Brand, Average Battery Life (in hours), Item Weight, Graphics Coprocessor, Manufacturer, Processor Count, Brand, Product Dimensions, Chipset Brand, Series, Number of USB 2.0 Ports, Standing screen display size, Item Dimensions  L x W x H, Item model number, Memory Speed, Package Dimensions, Max Screen Resolution, Color, Card Description, Number of USB 3.0 Ports, Is Discontinued By Manufacturer]\n",
       "Index: []\n",
       "\n",
       "[0 rows x 25 columns]"
      ],
      "text/html": "<div>\n<style scoped>\n    .dataframe tbody tr th:only-of-type {\n        vertical-align: middle;\n    }\n\n    .dataframe tbody tr th {\n        vertical-align: top;\n    }\n\n    .dataframe thead th {\n        text-align: right;\n    }\n</style>\n<table border=\"1\" class=\"dataframe\">\n  <thead>\n    <tr style=\"text-align: right;\">\n      <th></th>\n      <th>Computer Memory Type</th>\n      <th>Wireless Type</th>\n      <th>ASIN</th>\n      <th>Date First Available</th>\n      <th>Processor Brand</th>\n      <th>Average Battery Life (in hours)</th>\n      <th>Item Weight</th>\n      <th>Graphics Coprocessor</th>\n      <th>Manufacturer</th>\n      <th>Processor Count</th>\n      <th>...</th>\n      <th>Standing screen display size</th>\n      <th>Item Dimensions  L x W x H</th>\n      <th>Item model number</th>\n      <th>Memory Speed</th>\n      <th>Package Dimensions</th>\n      <th>Max Screen Resolution</th>\n      <th>Color</th>\n      <th>Card Description</th>\n      <th>Number of USB 3.0 Ports</th>\n      <th>Is Discontinued By Manufacturer</th>\n    </tr>\n  </thead>\n  <tbody>\n  </tbody>\n</table>\n<p>0 rows × 25 columns</p>\n</div>"
     },
     "metadata": {},
     "execution_count": 71
    }
   ],
   "source": [
    "ef= df['product_tech_spec'].dropna()\n",
    "fg=[]\n",
    "for i in ef:\n",
    "    for j in i:\n",
    "       fg.append(j)\n",
    "gf=[]\n",
    "for i in fg:\n",
    "    for n in i:\n",
    "         gf.append(i['info'])\n",
    "\n",
    "gf = set(gf)\n",
    "gf.discard('Customer Reviews')\n",
    "tf = pd.DataFrame(columns = gf)\n",
    "gf = list(gf)\n",
    "\n",
    "new1 = pd.DataFrame(columns=gf)\n",
    "\n",
    "new1"
   ]
  },
  {
   "cell_type": "code",
   "execution_count": 72,
   "metadata": {},
   "outputs": [],
   "source": [
    "\n",
    "for i in range(len(df)):\n",
    "#for i in list(range(5))[1:]:\n",
    "    #print(df.product_tech_spec[i])\n",
    "    if df.product_tech_spec[i] is None:\n",
    "        new1.loc[i, : ] = ''\n",
    "        #print(i)\n",
    "        continue\n",
    "\n",
    "    for j in df.product_tech_spec[i]:\n",
    "        #info = j['info']\n",
    "        #value = j['value']\n",
    "        #print(info, value)\n",
    "        \n",
    "        new1.loc[i, j['info']] = j['value']"
   ]
  },
  {
   "cell_type": "code",
   "execution_count": 73,
   "metadata": {},
   "outputs": [
    {
     "output_type": "execute_result",
     "data": {
      "text/plain": [
       "   Computer Memory Type Wireless Type        ASIN Date First Available  \\\n",
       "0                                                                        \n",
       "1                                                                        \n",
       "2                   NaN           NaN  B07SXMZLP9         July 1, 2019   \n",
       "3                   NaN           NaN         NaN                  NaN   \n",
       "4            DDR4 SDRAM           NaN  B07B428M7F       April 13, 2018   \n",
       "5                   NaN           NaN  B07SXMZLPJ         July 1, 2019   \n",
       "6                   NaN           NaN  B07SQBFN2D         July 1, 2019   \n",
       "7                   NaN           NaN  B07S8DWXT3         May 15, 2019   \n",
       "8                   NaN           NaN  B07SXNDKNM         July 1, 2019   \n",
       "9                   NaN           NaN         NaN                  NaN   \n",
       "10                  NaN           NaN         NaN                  NaN   \n",
       "11                  NaN     Bluetooth         NaN                  NaN   \n",
       "12                  NaN           NaN  B086MG1C7C         May 27, 2020   \n",
       "13                  NaN           NaN  B089WC4VWF         July 7, 2020   \n",
       "14                                                                       \n",
       "15                                                                       \n",
       "16                GDDR4           NaN  B07R7Q3JZH         May 17, 2019   \n",
       "17                  NaN      802.11ac         NaN                  NaN   \n",
       "18                  NaN           NaN         NaN                  NaN   \n",
       "19                  NaN           NaN         NaN                  NaN   \n",
       "20                                                                       \n",
       "\n",
       "   Processor Brand Average Battery Life (in hours)  Item Weight  \\\n",
       "0                                                                 \n",
       "1                                                                 \n",
       "2              AMD                             NaN   1.6 ounces   \n",
       "3              NaN                             NaN          NaN   \n",
       "4              AMD                             NaN   1.6 ounces   \n",
       "5              AMD                             NaN  1.41 pounds   \n",
       "6              AMD                             NaN  1.12 pounds   \n",
       "7            Intel                             NaN   9.2 ounces   \n",
       "8              AMD                             NaN  1.12 pounds   \n",
       "9              NaN                             NaN          NaN   \n",
       "10             NaN                             NaN          NaN   \n",
       "11             NaN                             NaN          NaN   \n",
       "12           Intel                             NaN  11.3 ounces   \n",
       "13             AMD                             NaN  1.12 pounds   \n",
       "14                                                                \n",
       "15                                                                \n",
       "16           Intel                             NaN   8.8 ounces   \n",
       "17             NaN                        10 Hours          NaN   \n",
       "18             NaN                             NaN          NaN   \n",
       "19             NaN                             NaN          NaN   \n",
       "20                                                                \n",
       "\n",
       "       Graphics Coprocessor Manufacturer Processor Count  ...  \\\n",
       "0                                                         ...   \n",
       "1                                                         ...   \n",
       "2                       NaN          AMD              12  ...   \n",
       "3                       NaN          NaN             NaN  ...   \n",
       "4                       NaN          AMD               8  ...   \n",
       "5                       NaN          AMD               8  ...   \n",
       "6                       NaN          AMD               6  ...   \n",
       "7                       NaN        Intel               8  ...   \n",
       "8                       NaN          AMD               4  ...   \n",
       "9       Integrated_graphics          NaN             NaN  ...   \n",
       "10                      NaN          NaN             NaN  ...   \n",
       "11                      NaN          NaN             NaN  ...   \n",
       "12                      NaN        Intel               8  ...   \n",
       "13                      NaN          AMD               6  ...   \n",
       "14                                                        ...   \n",
       "15                                                        ...   \n",
       "16                      NaN        Intel               4  ...   \n",
       "17  AMD Integrated Graphics          NaN             NaN  ...   \n",
       "18      Integrated_graphics          NaN             NaN  ...   \n",
       "19        Intel HD Graphics          NaN             NaN  ...   \n",
       "20                                                        ...   \n",
       "\n",
       "   Standing screen display size Item Dimensions  L x W x H  \\\n",
       "0                                                            \n",
       "1                                                            \n",
       "2                           NaN  1.57 x 1.57 x 0.24 inches   \n",
       "3                           NaN                        NaN   \n",
       "4                           NaN     1.6 x 1.6 x 0.3 inches   \n",
       "5                           NaN  1.57 x 1.57 x 0.24 inches   \n",
       "6                           NaN  1.57 x 1.57 x 0.24 inches   \n",
       "7                           NaN  4.57 x 2.76 x 3.98 inches   \n",
       "8                           NaN  1.57 x 1.57 x 0.24 inches   \n",
       "9                           NaN                        NaN   \n",
       "10                          NaN                        NaN   \n",
       "11                          NaN                        NaN   \n",
       "12                          NaN                        NaN   \n",
       "13                          NaN  1.57 x 0.24 x 5.28 inches   \n",
       "14                                                           \n",
       "15                                                           \n",
       "16                          NaN  4.57 x 2.76 x 3.98 inches   \n",
       "17                    14 Inches                        NaN   \n",
       "18                          NaN                        NaN   \n",
       "19                          NaN                        NaN   \n",
       "20                                                           \n",
       "\n",
       "     Item model number Memory Speed         Package Dimensions  \\\n",
       "0                                                                \n",
       "1                                                                \n",
       "2        Ryzen 9 3900X          NaN                        NaN   \n",
       "3                  NaN     3700 MHz                        NaN   \n",
       "4        YD270XBGAFBOX          NaN                        NaN   \n",
       "5        Ryzen 7 3800X          NaN                        NaN   \n",
       "6        Ryzen 5 3600X          NaN                        NaN   \n",
       "7       BX80684I79700F          NaN                        NaN   \n",
       "8        Ryzen 5 3400G          NaN                        NaN   \n",
       "9                  NaN          NaN                        NaN   \n",
       "10                 NaN     2800 MHz                        NaN   \n",
       "11                 NaN          NaN                        NaN   \n",
       "12        BX8070110700          NaN  4.65 x 4.09 x 2.83 inches   \n",
       "13  AMD Ryzen 5 3600XT          NaN                        NaN   \n",
       "14                                                               \n",
       "15                                                               \n",
       "16      BX80684I39100F          NaN                        NaN   \n",
       "17                 NaN          NaN                        NaN   \n",
       "18                 NaN          NaN                        NaN   \n",
       "19                 NaN     3700 MHz                        NaN   \n",
       "20                                                               \n",
       "\n",
       "   Max Screen Resolution Color Card Description Number of USB 3.0 Ports  \\\n",
       "0                                                                         \n",
       "1                                                                         \n",
       "2                    NaN   NaN              NaN                     NaN   \n",
       "3                    NaN   NaN              NaN                     NaN   \n",
       "4                    NaN   RGB              NaN                     NaN   \n",
       "5                    NaN   NaN              NaN                     NaN   \n",
       "6                    NaN   NaN              NaN                     NaN   \n",
       "7                    NaN   NaN              NaN                     NaN   \n",
       "8                    NaN   NaN              NaN                     NaN   \n",
       "9                    NaN   NaN       Integrated                     NaN   \n",
       "10                   NaN   NaN              NaN                     NaN   \n",
       "11                   NaN   NaN              NaN                     NaN   \n",
       "12                   NaN   NaN              NaN                     NaN   \n",
       "13                   NaN   NaN              NaN                     NaN   \n",
       "14                                                                        \n",
       "15                                                                        \n",
       "16                   NaN   NaN              NaN                     NaN   \n",
       "17    1920 x 1080 Pixels   NaN       Integrated                       2   \n",
       "18                   NaN   NaN       Integrated                     NaN   \n",
       "19                   NaN   NaN       Integrated                     NaN   \n",
       "20                                                                        \n",
       "\n",
       "   Is Discontinued By Manufacturer  \n",
       "0                                   \n",
       "1                                   \n",
       "2                               No  \n",
       "3                              NaN  \n",
       "4                               No  \n",
       "5                               No  \n",
       "6                               No  \n",
       "7                               No  \n",
       "8                               No  \n",
       "9                              NaN  \n",
       "10                             NaN  \n",
       "11                             NaN  \n",
       "12                             NaN  \n",
       "13                             NaN  \n",
       "14                                  \n",
       "15                                  \n",
       "16                              No  \n",
       "17                             NaN  \n",
       "18                             NaN  \n",
       "19                             NaN  \n",
       "20                                  \n",
       "\n",
       "[21 rows x 25 columns]"
      ],
      "text/html": "<div>\n<style scoped>\n    .dataframe tbody tr th:only-of-type {\n        vertical-align: middle;\n    }\n\n    .dataframe tbody tr th {\n        vertical-align: top;\n    }\n\n    .dataframe thead th {\n        text-align: right;\n    }\n</style>\n<table border=\"1\" class=\"dataframe\">\n  <thead>\n    <tr style=\"text-align: right;\">\n      <th></th>\n      <th>Computer Memory Type</th>\n      <th>Wireless Type</th>\n      <th>ASIN</th>\n      <th>Date First Available</th>\n      <th>Processor Brand</th>\n      <th>Average Battery Life (in hours)</th>\n      <th>Item Weight</th>\n      <th>Graphics Coprocessor</th>\n      <th>Manufacturer</th>\n      <th>Processor Count</th>\n      <th>...</th>\n      <th>Standing screen display size</th>\n      <th>Item Dimensions  L x W x H</th>\n      <th>Item model number</th>\n      <th>Memory Speed</th>\n      <th>Package Dimensions</th>\n      <th>Max Screen Resolution</th>\n      <th>Color</th>\n      <th>Card Description</th>\n      <th>Number of USB 3.0 Ports</th>\n      <th>Is Discontinued By Manufacturer</th>\n    </tr>\n  </thead>\n  <tbody>\n    <tr>\n      <td>0</td>\n      <td></td>\n      <td></td>\n      <td></td>\n      <td></td>\n      <td></td>\n      <td></td>\n      <td></td>\n      <td></td>\n      <td></td>\n      <td></td>\n      <td>...</td>\n      <td></td>\n      <td></td>\n      <td></td>\n      <td></td>\n      <td></td>\n      <td></td>\n      <td></td>\n      <td></td>\n      <td></td>\n      <td></td>\n    </tr>\n    <tr>\n      <td>1</td>\n      <td></td>\n      <td></td>\n      <td></td>\n      <td></td>\n      <td></td>\n      <td></td>\n      <td></td>\n      <td></td>\n      <td></td>\n      <td></td>\n      <td>...</td>\n      <td></td>\n      <td></td>\n      <td></td>\n      <td></td>\n      <td></td>\n      <td></td>\n      <td></td>\n      <td></td>\n      <td></td>\n      <td></td>\n    </tr>\n    <tr>\n      <td>2</td>\n      <td>NaN</td>\n      <td>NaN</td>\n      <td>B07SXMZLP9</td>\n      <td>July 1, 2019</td>\n      <td>AMD</td>\n      <td>NaN</td>\n      <td>1.6 ounces</td>\n      <td>NaN</td>\n      <td>AMD</td>\n      <td>12</td>\n      <td>...</td>\n      <td>NaN</td>\n      <td>1.57 x 1.57 x 0.24 inches</td>\n      <td>Ryzen 9 3900X</td>\n      <td>NaN</td>\n      <td>NaN</td>\n      <td>NaN</td>\n      <td>NaN</td>\n      <td>NaN</td>\n      <td>NaN</td>\n      <td>No</td>\n    </tr>\n    <tr>\n      <td>3</td>\n      <td>NaN</td>\n      <td>NaN</td>\n      <td>NaN</td>\n      <td>NaN</td>\n      <td>NaN</td>\n      <td>NaN</td>\n      <td>NaN</td>\n      <td>NaN</td>\n      <td>NaN</td>\n      <td>NaN</td>\n      <td>...</td>\n      <td>NaN</td>\n      <td>NaN</td>\n      <td>NaN</td>\n      <td>3700 MHz</td>\n      <td>NaN</td>\n      <td>NaN</td>\n      <td>NaN</td>\n      <td>NaN</td>\n      <td>NaN</td>\n      <td>NaN</td>\n    </tr>\n    <tr>\n      <td>4</td>\n      <td>DDR4 SDRAM</td>\n      <td>NaN</td>\n      <td>B07B428M7F</td>\n      <td>April 13, 2018</td>\n      <td>AMD</td>\n      <td>NaN</td>\n      <td>1.6 ounces</td>\n      <td>NaN</td>\n      <td>AMD</td>\n      <td>8</td>\n      <td>...</td>\n      <td>NaN</td>\n      <td>1.6 x 1.6 x 0.3 inches</td>\n      <td>YD270XBGAFBOX</td>\n      <td>NaN</td>\n      <td>NaN</td>\n      <td>NaN</td>\n      <td>RGB</td>\n      <td>NaN</td>\n      <td>NaN</td>\n      <td>No</td>\n    </tr>\n    <tr>\n      <td>5</td>\n      <td>NaN</td>\n      <td>NaN</td>\n      <td>B07SXMZLPJ</td>\n      <td>July 1, 2019</td>\n      <td>AMD</td>\n      <td>NaN</td>\n      <td>1.41 pounds</td>\n      <td>NaN</td>\n      <td>AMD</td>\n      <td>8</td>\n      <td>...</td>\n      <td>NaN</td>\n      <td>1.57 x 1.57 x 0.24 inches</td>\n      <td>Ryzen 7 3800X</td>\n      <td>NaN</td>\n      <td>NaN</td>\n      <td>NaN</td>\n      <td>NaN</td>\n      <td>NaN</td>\n      <td>NaN</td>\n      <td>No</td>\n    </tr>\n    <tr>\n      <td>6</td>\n      <td>NaN</td>\n      <td>NaN</td>\n      <td>B07SQBFN2D</td>\n      <td>July 1, 2019</td>\n      <td>AMD</td>\n      <td>NaN</td>\n      <td>1.12 pounds</td>\n      <td>NaN</td>\n      <td>AMD</td>\n      <td>6</td>\n      <td>...</td>\n      <td>NaN</td>\n      <td>1.57 x 1.57 x 0.24 inches</td>\n      <td>Ryzen 5 3600X</td>\n      <td>NaN</td>\n      <td>NaN</td>\n      <td>NaN</td>\n      <td>NaN</td>\n      <td>NaN</td>\n      <td>NaN</td>\n      <td>No</td>\n    </tr>\n    <tr>\n      <td>7</td>\n      <td>NaN</td>\n      <td>NaN</td>\n      <td>B07S8DWXT3</td>\n      <td>May 15, 2019</td>\n      <td>Intel</td>\n      <td>NaN</td>\n      <td>9.2 ounces</td>\n      <td>NaN</td>\n      <td>Intel</td>\n      <td>8</td>\n      <td>...</td>\n      <td>NaN</td>\n      <td>4.57 x 2.76 x 3.98 inches</td>\n      <td>BX80684I79700F</td>\n      <td>NaN</td>\n      <td>NaN</td>\n      <td>NaN</td>\n      <td>NaN</td>\n      <td>NaN</td>\n      <td>NaN</td>\n      <td>No</td>\n    </tr>\n    <tr>\n      <td>8</td>\n      <td>NaN</td>\n      <td>NaN</td>\n      <td>B07SXNDKNM</td>\n      <td>July 1, 2019</td>\n      <td>AMD</td>\n      <td>NaN</td>\n      <td>1.12 pounds</td>\n      <td>NaN</td>\n      <td>AMD</td>\n      <td>4</td>\n      <td>...</td>\n      <td>NaN</td>\n      <td>1.57 x 1.57 x 0.24 inches</td>\n      <td>Ryzen 5 3400G</td>\n      <td>NaN</td>\n      <td>NaN</td>\n      <td>NaN</td>\n      <td>NaN</td>\n      <td>NaN</td>\n      <td>NaN</td>\n      <td>No</td>\n    </tr>\n    <tr>\n      <td>9</td>\n      <td>NaN</td>\n      <td>NaN</td>\n      <td>NaN</td>\n      <td>NaN</td>\n      <td>NaN</td>\n      <td>NaN</td>\n      <td>NaN</td>\n      <td>Integrated_graphics</td>\n      <td>NaN</td>\n      <td>NaN</td>\n      <td>...</td>\n      <td>NaN</td>\n      <td>NaN</td>\n      <td>NaN</td>\n      <td>NaN</td>\n      <td>NaN</td>\n      <td>NaN</td>\n      <td>NaN</td>\n      <td>Integrated</td>\n      <td>NaN</td>\n      <td>NaN</td>\n    </tr>\n    <tr>\n      <td>10</td>\n      <td>NaN</td>\n      <td>NaN</td>\n      <td>NaN</td>\n      <td>NaN</td>\n      <td>NaN</td>\n      <td>NaN</td>\n      <td>NaN</td>\n      <td>NaN</td>\n      <td>NaN</td>\n      <td>NaN</td>\n      <td>...</td>\n      <td>NaN</td>\n      <td>NaN</td>\n      <td>NaN</td>\n      <td>2800 MHz</td>\n      <td>NaN</td>\n      <td>NaN</td>\n      <td>NaN</td>\n      <td>NaN</td>\n      <td>NaN</td>\n      <td>NaN</td>\n    </tr>\n    <tr>\n      <td>11</td>\n      <td>NaN</td>\n      <td>Bluetooth</td>\n      <td>NaN</td>\n      <td>NaN</td>\n      <td>NaN</td>\n      <td>NaN</td>\n      <td>NaN</td>\n      <td>NaN</td>\n      <td>NaN</td>\n      <td>NaN</td>\n      <td>...</td>\n      <td>NaN</td>\n      <td>NaN</td>\n      <td>NaN</td>\n      <td>NaN</td>\n      <td>NaN</td>\n      <td>NaN</td>\n      <td>NaN</td>\n      <td>NaN</td>\n      <td>NaN</td>\n      <td>NaN</td>\n    </tr>\n    <tr>\n      <td>12</td>\n      <td>NaN</td>\n      <td>NaN</td>\n      <td>B086MG1C7C</td>\n      <td>May 27, 2020</td>\n      <td>Intel</td>\n      <td>NaN</td>\n      <td>11.3 ounces</td>\n      <td>NaN</td>\n      <td>Intel</td>\n      <td>8</td>\n      <td>...</td>\n      <td>NaN</td>\n      <td>NaN</td>\n      <td>BX8070110700</td>\n      <td>NaN</td>\n      <td>4.65 x 4.09 x 2.83 inches</td>\n      <td>NaN</td>\n      <td>NaN</td>\n      <td>NaN</td>\n      <td>NaN</td>\n      <td>NaN</td>\n    </tr>\n    <tr>\n      <td>13</td>\n      <td>NaN</td>\n      <td>NaN</td>\n      <td>B089WC4VWF</td>\n      <td>July 7, 2020</td>\n      <td>AMD</td>\n      <td>NaN</td>\n      <td>1.12 pounds</td>\n      <td>NaN</td>\n      <td>AMD</td>\n      <td>6</td>\n      <td>...</td>\n      <td>NaN</td>\n      <td>1.57 x 0.24 x 5.28 inches</td>\n      <td>AMD Ryzen 5 3600XT</td>\n      <td>NaN</td>\n      <td>NaN</td>\n      <td>NaN</td>\n      <td>NaN</td>\n      <td>NaN</td>\n      <td>NaN</td>\n      <td>NaN</td>\n    </tr>\n    <tr>\n      <td>14</td>\n      <td></td>\n      <td></td>\n      <td></td>\n      <td></td>\n      <td></td>\n      <td></td>\n      <td></td>\n      <td></td>\n      <td></td>\n      <td></td>\n      <td>...</td>\n      <td></td>\n      <td></td>\n      <td></td>\n      <td></td>\n      <td></td>\n      <td></td>\n      <td></td>\n      <td></td>\n      <td></td>\n      <td></td>\n    </tr>\n    <tr>\n      <td>15</td>\n      <td></td>\n      <td></td>\n      <td></td>\n      <td></td>\n      <td></td>\n      <td></td>\n      <td></td>\n      <td></td>\n      <td></td>\n      <td></td>\n      <td>...</td>\n      <td></td>\n      <td></td>\n      <td></td>\n      <td></td>\n      <td></td>\n      <td></td>\n      <td></td>\n      <td></td>\n      <td></td>\n      <td></td>\n    </tr>\n    <tr>\n      <td>16</td>\n      <td>GDDR4</td>\n      <td>NaN</td>\n      <td>B07R7Q3JZH</td>\n      <td>May 17, 2019</td>\n      <td>Intel</td>\n      <td>NaN</td>\n      <td>8.8 ounces</td>\n      <td>NaN</td>\n      <td>Intel</td>\n      <td>4</td>\n      <td>...</td>\n      <td>NaN</td>\n      <td>4.57 x 2.76 x 3.98 inches</td>\n      <td>BX80684I39100F</td>\n      <td>NaN</td>\n      <td>NaN</td>\n      <td>NaN</td>\n      <td>NaN</td>\n      <td>NaN</td>\n      <td>NaN</td>\n      <td>No</td>\n    </tr>\n    <tr>\n      <td>17</td>\n      <td>NaN</td>\n      <td>802.11ac</td>\n      <td>NaN</td>\n      <td>NaN</td>\n      <td>NaN</td>\n      <td>10 Hours</td>\n      <td>NaN</td>\n      <td>AMD Integrated Graphics</td>\n      <td>NaN</td>\n      <td>NaN</td>\n      <td>...</td>\n      <td>14 Inches</td>\n      <td>NaN</td>\n      <td>NaN</td>\n      <td>NaN</td>\n      <td>NaN</td>\n      <td>1920 x 1080 Pixels</td>\n      <td>NaN</td>\n      <td>Integrated</td>\n      <td>2</td>\n      <td>NaN</td>\n    </tr>\n    <tr>\n      <td>18</td>\n      <td>NaN</td>\n      <td>NaN</td>\n      <td>NaN</td>\n      <td>NaN</td>\n      <td>NaN</td>\n      <td>NaN</td>\n      <td>NaN</td>\n      <td>Integrated_graphics</td>\n      <td>NaN</td>\n      <td>NaN</td>\n      <td>...</td>\n      <td>NaN</td>\n      <td>NaN</td>\n      <td>NaN</td>\n      <td>NaN</td>\n      <td>NaN</td>\n      <td>NaN</td>\n      <td>NaN</td>\n      <td>Integrated</td>\n      <td>NaN</td>\n      <td>NaN</td>\n    </tr>\n    <tr>\n      <td>19</td>\n      <td>NaN</td>\n      <td>NaN</td>\n      <td>NaN</td>\n      <td>NaN</td>\n      <td>NaN</td>\n      <td>NaN</td>\n      <td>NaN</td>\n      <td>Intel HD Graphics</td>\n      <td>NaN</td>\n      <td>NaN</td>\n      <td>...</td>\n      <td>NaN</td>\n      <td>NaN</td>\n      <td>NaN</td>\n      <td>3700 MHz</td>\n      <td>NaN</td>\n      <td>NaN</td>\n      <td>NaN</td>\n      <td>Integrated</td>\n      <td>NaN</td>\n      <td>NaN</td>\n    </tr>\n    <tr>\n      <td>20</td>\n      <td></td>\n      <td></td>\n      <td></td>\n      <td></td>\n      <td></td>\n      <td></td>\n      <td></td>\n      <td></td>\n      <td></td>\n      <td></td>\n      <td>...</td>\n      <td></td>\n      <td></td>\n      <td></td>\n      <td></td>\n      <td></td>\n      <td></td>\n      <td></td>\n      <td></td>\n      <td></td>\n      <td></td>\n    </tr>\n  </tbody>\n</table>\n<p>21 rows × 25 columns</p>\n</div>"
     },
     "metadata": {},
     "execution_count": 73
    }
   ],
   "source": [
    "new1"
   ]
  },
  {
   "cell_type": "code",
   "execution_count": 76,
   "metadata": {},
   "outputs": [],
   "source": [
    "pd.concat([new1, new], axis=1).to_csv('addl_tech.csv')\n"
   ]
  },
  {
   "cell_type": "code",
   "execution_count": null,
   "metadata": {},
   "outputs": [],
   "source": [
    "for j in range(len(products)):\n",
    "    for i in new:\n",
    "        if products[j][i] == back(products[j],'info'):\n",
    "            new.loc[j, products[j][i]] = back(products[j],'value')\n"
   ]
  }
 ]
}