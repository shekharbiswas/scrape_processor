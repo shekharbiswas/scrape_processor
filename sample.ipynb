{
 "metadata": {
  "language_info": {
   "codemirror_mode": {
    "name": "ipython",
    "version": 3
   },
   "file_extension": ".py",
   "mimetype": "text/x-python",
   "name": "python",
   "nbconvert_exporter": "python",
   "pygments_lexer": "ipython3",
   "version": "3.7.4-final"
  },
  "orig_nbformat": 2,
  "kernelspec": {
   "name": "python3",
   "display_name": "Python 3"
  }
 },
 "nbformat": 4,
 "nbformat_minor": 2,
 "cells": [
  {
   "cell_type": "code",
   "execution_count": 73,
   "metadata": {},
   "outputs": [],
   "source": [
    "import numpy as np\n",
    "import pandas as pd"
   ]
  },
  {
   "cell_type": "code",
   "execution_count": 74,
   "metadata": {},
   "outputs": [],
   "source": [
    "df = pd.read_json('.\\sample_product.json')"
   ]
  },
  {
   "cell_type": "code",
   "execution_count": 75,
   "metadata": {},
   "outputs": [
    {
     "output_type": "execute_result",
     "data": {
      "text/plain": [
       "                                                name  \\\n",
       "0  EVanlak DispalyPort Headless Ghost Display Emu...   \n",
       "1  EKWB EK-Quantum Magnitude CPU Water Block, AMD...   \n",
       "2  AMD Ryzen 9 3900X 12-core, 24-thread unlocked ...   \n",
       "3  AMD Ryzen 9 3900X 12-core, 24-thread unlocked ...   \n",
       "\n",
       "                                   product_tech_spec  \\\n",
       "0                                               None   \n",
       "1                                               None   \n",
       "2  [{'info': 'Brand', 'value': 'AMD'}, {'info': '...   \n",
       "3  [{'info': 'Brand', 'value': 'AMD'}, {'info': '...   \n",
       "\n",
       "                                   product_addl_info         seller  \\\n",
       "0  [{'info': 'Product Dimensions', 'value': '13.3...  EVanlak stroe   \n",
       "1  [{'info': 'Package Dimensions', 'value': '7 x ...      TITAN RIG   \n",
       "2  [{'info': 'ASIN', 'value': 'B07SXMZLP9'}, {'in...           None   \n",
       "3  [{'info': 'ASIN', 'value': 'B07SXMZLP9'}, {'in...           None   \n",
       "\n",
       "                                         seller_link  \\\n",
       "0  https://www.amazon.com/gp/help/seller/at-a-gla...   \n",
       "1  https://www.amazon.com/gp/help/seller/at-a-gla...   \n",
       "2                                               None   \n",
       "3                                               None   \n",
       "\n",
       "                                         freq_bought  \\\n",
       "0                                               None   \n",
       "1                                               None   \n",
       "2  Corsair Vengeance RGB Pro 32GB (2x16GB) DDR4 3...   \n",
       "3  Corsair Vengeance RGB Pro 32GB (2x16GB) DDR4 3...   \n",
       "\n",
       "                                    freq_bought_link  \\\n",
       "0                                               None   \n",
       "1                                               None   \n",
       "2  /Corsair-CMW32GX4M2C3200C16-Vengeance-PC4-2560...   \n",
       "3  /Corsair-CMW32GX4M2C3200C16-Vengeance-PC4-2560...   \n",
       "\n",
       "                                 link_to_all_reviews  \n",
       "0  /EVanlak-DispalyPort-Headless-Emulator-3840x21...  \n",
       "1  /EKWB-EK-Quantum-Magnitude-Water-Nickel/produc...  \n",
       "2  /Ryzen-3900X-Procesador-escritorio-desbloquead...  \n",
       "3  /Ryzen-3900X-Procesador-escritorio-desbloquead...  "
      ],
      "text/html": "<div>\n<style scoped>\n    .dataframe tbody tr th:only-of-type {\n        vertical-align: middle;\n    }\n\n    .dataframe tbody tr th {\n        vertical-align: top;\n    }\n\n    .dataframe thead th {\n        text-align: right;\n    }\n</style>\n<table border=\"1\" class=\"dataframe\">\n  <thead>\n    <tr style=\"text-align: right;\">\n      <th></th>\n      <th>name</th>\n      <th>product_tech_spec</th>\n      <th>product_addl_info</th>\n      <th>seller</th>\n      <th>seller_link</th>\n      <th>freq_bought</th>\n      <th>freq_bought_link</th>\n      <th>link_to_all_reviews</th>\n    </tr>\n  </thead>\n  <tbody>\n    <tr>\n      <td>0</td>\n      <td>EVanlak DispalyPort Headless Ghost Display Emu...</td>\n      <td>None</td>\n      <td>[{'info': 'Product Dimensions', 'value': '13.3...</td>\n      <td>EVanlak stroe</td>\n      <td>https://www.amazon.com/gp/help/seller/at-a-gla...</td>\n      <td>None</td>\n      <td>None</td>\n      <td>/EVanlak-DispalyPort-Headless-Emulator-3840x21...</td>\n    </tr>\n    <tr>\n      <td>1</td>\n      <td>EKWB EK-Quantum Magnitude CPU Water Block, AMD...</td>\n      <td>None</td>\n      <td>[{'info': 'Package Dimensions', 'value': '7 x ...</td>\n      <td>TITAN RIG</td>\n      <td>https://www.amazon.com/gp/help/seller/at-a-gla...</td>\n      <td>None</td>\n      <td>None</td>\n      <td>/EKWB-EK-Quantum-Magnitude-Water-Nickel/produc...</td>\n    </tr>\n    <tr>\n      <td>2</td>\n      <td>AMD Ryzen 9 3900X 12-core, 24-thread unlocked ...</td>\n      <td>[{'info': 'Brand', 'value': 'AMD'}, {'info': '...</td>\n      <td>[{'info': 'ASIN', 'value': 'B07SXMZLP9'}, {'in...</td>\n      <td>None</td>\n      <td>None</td>\n      <td>Corsair Vengeance RGB Pro 32GB (2x16GB) DDR4 3...</td>\n      <td>/Corsair-CMW32GX4M2C3200C16-Vengeance-PC4-2560...</td>\n      <td>/Ryzen-3900X-Procesador-escritorio-desbloquead...</td>\n    </tr>\n    <tr>\n      <td>3</td>\n      <td>AMD Ryzen 9 3900X 12-core, 24-thread unlocked ...</td>\n      <td>[{'info': 'Brand', 'value': 'AMD'}, {'info': '...</td>\n      <td>[{'info': 'ASIN', 'value': 'B07SXMZLP9'}, {'in...</td>\n      <td>None</td>\n      <td>None</td>\n      <td>Corsair Vengeance RGB Pro 32GB (2x16GB) DDR4 3...</td>\n      <td>/Corsair-CMW32GX4M2C3200C16-Vengeance-PC4-2560...</td>\n      <td>/Ryzen-3900X-Procesador-escritorio-desbloquead...</td>\n    </tr>\n  </tbody>\n</table>\n</div>"
     },
     "metadata": {},
     "execution_count": 75
    }
   ],
   "source": [
    "df"
   ]
  },
  {
   "cell_type": "code",
   "execution_count": 31,
   "metadata": {},
   "outputs": [
    {
     "output_type": "execute_result",
     "data": {
      "text/plain": [
       "'Product Dimensions'"
      ]
     },
     "metadata": {},
     "execution_count": 31
    }
   ],
   "source": [
    "df.product_addl_info[0][0]['info']"
   ]
  },
  {
   "cell_type": "code",
   "execution_count": 65,
   "metadata": {},
   "outputs": [
    {
     "output_type": "stream",
     "name": "stdout",
     "text": [
      "['Product Dimensions', 'Manufacturer', 'Item model number', 'Item Weight', 'ASIN', 'Best Sellers Rank', 'Package Dimensions', 'Date First Available']\n"
     ]
    }
   ],
   "source": [
    "columns = []\n",
    "for i in range(len(df)):\n",
    "    for j in df.product_addl_info[i]:\n",
    "        columns.append(j['info'])\n",
    "\n",
    "columns = list(set(columns))\n",
    "    #print(df.product_addl_info[i][0])\n",
    "columns.remove('Customer Reviews')\n",
    "print(columns)\n"
   ]
  },
  {
   "cell_type": "code",
   "execution_count": 66,
   "metadata": {},
   "outputs": [],
   "source": [
    "new = pd.DataFrame(columns=columns)\n"
   ]
  },
  {
   "cell_type": "code",
   "execution_count": 67,
   "metadata": {},
   "outputs": [
    {
     "output_type": "execute_result",
     "data": {
      "text/plain": [
       "Empty DataFrame\n",
       "Columns: [Product Dimensions, Manufacturer, Item model number, Item Weight, ASIN, Best Sellers Rank, Package Dimensions, Date First Available]\n",
       "Index: []"
      ],
      "text/html": "<div>\n<style scoped>\n    .dataframe tbody tr th:only-of-type {\n        vertical-align: middle;\n    }\n\n    .dataframe tbody tr th {\n        vertical-align: top;\n    }\n\n    .dataframe thead th {\n        text-align: right;\n    }\n</style>\n<table border=\"1\" class=\"dataframe\">\n  <thead>\n    <tr style=\"text-align: right;\">\n      <th></th>\n      <th>Product Dimensions</th>\n      <th>Manufacturer</th>\n      <th>Item model number</th>\n      <th>Item Weight</th>\n      <th>ASIN</th>\n      <th>Best Sellers Rank</th>\n      <th>Package Dimensions</th>\n      <th>Date First Available</th>\n    </tr>\n  </thead>\n  <tbody>\n  </tbody>\n</table>\n</div>"
     },
     "metadata": {},
     "execution_count": 67
    }
   ],
   "source": [
    "new"
   ]
  },
  {
   "cell_type": "code",
   "execution_count": 32,
   "metadata": {},
   "outputs": [
    {
     "output_type": "execute_result",
     "data": {
      "text/plain": [
       "{'info': 'Product Dimensions', 'value': '13.33 x 0.7 x 0.2 inches'}"
      ]
     },
     "metadata": {},
     "execution_count": 32
    }
   ],
   "source": [
    "df.product_addl_info[0][0]"
   ]
  },
  {
   "cell_type": "code",
   "execution_count": 68,
   "metadata": {},
   "outputs": [],
   "source": [
    "for i in range(len(df)):\n",
    "    for j in df.product_addl_info[i]:\n",
    "        #info = j['info']\n",
    "        #value = j['value']\n",
    "        #print(info, value)\n",
    "        new.loc[i, j['info']] = j['value']\n",
    "    "
   ]
  },
  {
   "cell_type": "code",
   "execution_count": 71,
   "metadata": {},
   "outputs": [],
   "source": [
    "new = new.drop(columns=['Customer Reviews'])"
   ]
  },
  {
   "cell_type": "code",
   "execution_count": 72,
   "metadata": {},
   "outputs": [
    {
     "output_type": "execute_result",
     "data": {
      "text/plain": [
       "         Product Dimensions Manufacturer Item model number   Item Weight  \\\n",
       "0  13.33 x 0.7 x 0.2 inches      EVanlak               NaN  0.352 ounces   \n",
       "1                       NaN         EKWB     3831109819272    1.6 pounds   \n",
       "2                       NaN          NaN               NaN           NaN   \n",
       "3                       NaN          NaN               NaN           NaN   \n",
       "\n",
       "         ASIN                Best Sellers Rank      Package Dimensions  \\\n",
       "0  B07YLQZXKY  #850 in Computer Graphics Cards                     NaN   \n",
       "1  B085NBFXFT  #3,135 in Water Cooling Systems  7 x 5.25 x 3.75 inches   \n",
       "2  B07SXMZLP9    #4 in Computer CPU Processors                     NaN   \n",
       "3  B07SXMZLP9    #4 in Computer CPU Processors                     NaN   \n",
       "\n",
       "  Date First Available  \n",
       "0      October 1, 2019  \n",
       "1        March 9, 2020  \n",
       "2         July 1, 2019  \n",
       "3         July 1, 2019  "
      ],
      "text/html": "<div>\n<style scoped>\n    .dataframe tbody tr th:only-of-type {\n        vertical-align: middle;\n    }\n\n    .dataframe tbody tr th {\n        vertical-align: top;\n    }\n\n    .dataframe thead th {\n        text-align: right;\n    }\n</style>\n<table border=\"1\" class=\"dataframe\">\n  <thead>\n    <tr style=\"text-align: right;\">\n      <th></th>\n      <th>Product Dimensions</th>\n      <th>Manufacturer</th>\n      <th>Item model number</th>\n      <th>Item Weight</th>\n      <th>ASIN</th>\n      <th>Best Sellers Rank</th>\n      <th>Package Dimensions</th>\n      <th>Date First Available</th>\n    </tr>\n  </thead>\n  <tbody>\n    <tr>\n      <td>0</td>\n      <td>13.33 x 0.7 x 0.2 inches</td>\n      <td>EVanlak</td>\n      <td>NaN</td>\n      <td>0.352 ounces</td>\n      <td>B07YLQZXKY</td>\n      <td>#850 in Computer Graphics Cards</td>\n      <td>NaN</td>\n      <td>October 1, 2019</td>\n    </tr>\n    <tr>\n      <td>1</td>\n      <td>NaN</td>\n      <td>EKWB</td>\n      <td>3831109819272</td>\n      <td>1.6 pounds</td>\n      <td>B085NBFXFT</td>\n      <td>#3,135 in Water Cooling Systems</td>\n      <td>7 x 5.25 x 3.75 inches</td>\n      <td>March 9, 2020</td>\n    </tr>\n    <tr>\n      <td>2</td>\n      <td>NaN</td>\n      <td>NaN</td>\n      <td>NaN</td>\n      <td>NaN</td>\n      <td>B07SXMZLP9</td>\n      <td>#4 in Computer CPU Processors</td>\n      <td>NaN</td>\n      <td>July 1, 2019</td>\n    </tr>\n    <tr>\n      <td>3</td>\n      <td>NaN</td>\n      <td>NaN</td>\n      <td>NaN</td>\n      <td>NaN</td>\n      <td>B07SXMZLP9</td>\n      <td>#4 in Computer CPU Processors</td>\n      <td>NaN</td>\n      <td>July 1, 2019</td>\n    </tr>\n  </tbody>\n</table>\n</div>"
     },
     "metadata": {},
     "execution_count": 72
    }
   ],
   "source": [
    "new"
   ]
  },
  {
   "cell_type": "code",
   "execution_count": 76,
   "metadata": {},
   "outputs": [
    {
     "output_type": "execute_result",
     "data": {
      "text/plain": [
       "                                                name  \\\n",
       "0  EVanlak DispalyPort Headless Ghost Display Emu...   \n",
       "1  EKWB EK-Quantum Magnitude CPU Water Block, AMD...   \n",
       "2  AMD Ryzen 9 3900X 12-core, 24-thread unlocked ...   \n",
       "3  AMD Ryzen 9 3900X 12-core, 24-thread unlocked ...   \n",
       "\n",
       "                                   product_tech_spec  \\\n",
       "0                                               None   \n",
       "1                                               None   \n",
       "2  [{'info': 'Brand', 'value': 'AMD'}, {'info': '...   \n",
       "3  [{'info': 'Brand', 'value': 'AMD'}, {'info': '...   \n",
       "\n",
       "                                   product_addl_info         seller  \\\n",
       "0  [{'info': 'Product Dimensions', 'value': '13.3...  EVanlak stroe   \n",
       "1  [{'info': 'Package Dimensions', 'value': '7 x ...      TITAN RIG   \n",
       "2  [{'info': 'ASIN', 'value': 'B07SXMZLP9'}, {'in...           None   \n",
       "3  [{'info': 'ASIN', 'value': 'B07SXMZLP9'}, {'in...           None   \n",
       "\n",
       "                                         seller_link  \\\n",
       "0  https://www.amazon.com/gp/help/seller/at-a-gla...   \n",
       "1  https://www.amazon.com/gp/help/seller/at-a-gla...   \n",
       "2                                               None   \n",
       "3                                               None   \n",
       "\n",
       "                                         freq_bought  \\\n",
       "0                                               None   \n",
       "1                                               None   \n",
       "2  Corsair Vengeance RGB Pro 32GB (2x16GB) DDR4 3...   \n",
       "3  Corsair Vengeance RGB Pro 32GB (2x16GB) DDR4 3...   \n",
       "\n",
       "                                    freq_bought_link  \\\n",
       "0                                               None   \n",
       "1                                               None   \n",
       "2  /Corsair-CMW32GX4M2C3200C16-Vengeance-PC4-2560...   \n",
       "3  /Corsair-CMW32GX4M2C3200C16-Vengeance-PC4-2560...   \n",
       "\n",
       "                                 link_to_all_reviews  \n",
       "0  /EVanlak-DispalyPort-Headless-Emulator-3840x21...  \n",
       "1  /EKWB-EK-Quantum-Magnitude-Water-Nickel/produc...  \n",
       "2  /Ryzen-3900X-Procesador-escritorio-desbloquead...  \n",
       "3  /Ryzen-3900X-Procesador-escritorio-desbloquead...  "
      ],
      "text/html": "<div>\n<style scoped>\n    .dataframe tbody tr th:only-of-type {\n        vertical-align: middle;\n    }\n\n    .dataframe tbody tr th {\n        vertical-align: top;\n    }\n\n    .dataframe thead th {\n        text-align: right;\n    }\n</style>\n<table border=\"1\" class=\"dataframe\">\n  <thead>\n    <tr style=\"text-align: right;\">\n      <th></th>\n      <th>name</th>\n      <th>product_tech_spec</th>\n      <th>product_addl_info</th>\n      <th>seller</th>\n      <th>seller_link</th>\n      <th>freq_bought</th>\n      <th>freq_bought_link</th>\n      <th>link_to_all_reviews</th>\n    </tr>\n  </thead>\n  <tbody>\n    <tr>\n      <td>0</td>\n      <td>EVanlak DispalyPort Headless Ghost Display Emu...</td>\n      <td>None</td>\n      <td>[{'info': 'Product Dimensions', 'value': '13.3...</td>\n      <td>EVanlak stroe</td>\n      <td>https://www.amazon.com/gp/help/seller/at-a-gla...</td>\n      <td>None</td>\n      <td>None</td>\n      <td>/EVanlak-DispalyPort-Headless-Emulator-3840x21...</td>\n    </tr>\n    <tr>\n      <td>1</td>\n      <td>EKWB EK-Quantum Magnitude CPU Water Block, AMD...</td>\n      <td>None</td>\n      <td>[{'info': 'Package Dimensions', 'value': '7 x ...</td>\n      <td>TITAN RIG</td>\n      <td>https://www.amazon.com/gp/help/seller/at-a-gla...</td>\n      <td>None</td>\n      <td>None</td>\n      <td>/EKWB-EK-Quantum-Magnitude-Water-Nickel/produc...</td>\n    </tr>\n    <tr>\n      <td>2</td>\n      <td>AMD Ryzen 9 3900X 12-core, 24-thread unlocked ...</td>\n      <td>[{'info': 'Brand', 'value': 'AMD'}, {'info': '...</td>\n      <td>[{'info': 'ASIN', 'value': 'B07SXMZLP9'}, {'in...</td>\n      <td>None</td>\n      <td>None</td>\n      <td>Corsair Vengeance RGB Pro 32GB (2x16GB) DDR4 3...</td>\n      <td>/Corsair-CMW32GX4M2C3200C16-Vengeance-PC4-2560...</td>\n      <td>/Ryzen-3900X-Procesador-escritorio-desbloquead...</td>\n    </tr>\n    <tr>\n      <td>3</td>\n      <td>AMD Ryzen 9 3900X 12-core, 24-thread unlocked ...</td>\n      <td>[{'info': 'Brand', 'value': 'AMD'}, {'info': '...</td>\n      <td>[{'info': 'ASIN', 'value': 'B07SXMZLP9'}, {'in...</td>\n      <td>None</td>\n      <td>None</td>\n      <td>Corsair Vengeance RGB Pro 32GB (2x16GB) DDR4 3...</td>\n      <td>/Corsair-CMW32GX4M2C3200C16-Vengeance-PC4-2560...</td>\n      <td>/Ryzen-3900X-Procesador-escritorio-desbloquead...</td>\n    </tr>\n  </tbody>\n</table>\n</div>"
     },
     "metadata": {},
     "execution_count": 76
    }
   ],
   "source": [
    "df"
   ]
  },
  {
   "cell_type": "code",
   "execution_count": null,
   "metadata": {},
   "outputs": [],
   "source": []
  }
 ]
}